{
  "nbformat": 4,
  "nbformat_minor": 0,
  "metadata": {
    "colab": {
      "provenance": []
    },
    "kernelspec": {
      "name": "python3",
      "display_name": "Python 3"
    },
    "language_info": {
      "name": "python"
    }
  },
  "cells": [
    {
      "cell_type": "code",
      "execution_count": null,
      "metadata": {
        "id": "E5kPO9XsUoky"
      },
      "outputs": [],
      "source": []
    },
    {
      "cell_type": "markdown",
      "source": [
        "Q1. Write a simple program in HTML that displays the heading \"HTML defines the content and structure of\n",
        "your website” on the web browser$"
      ],
      "metadata": {
        "id": "xppDVLqCW3Ll"
      }
    },
    {
      "cell_type": "markdown",
      "source": [],
      "metadata": {
        "id": "Zg56Q9tkWyz2"
      }
    },
    {
      "cell_type": "code",
      "source": [
        "<!DOCTYPE html>\n",
        "\n",
        "<html>\n",
        "\n",
        "<head>\n",
        "    <title>\n",
        "        HTML structure example\n",
        "    </title>\n",
        "    <style>\n",
        "        #unique{\n",
        "            color: blue;\n",
        "            font-size: large;\n",
        "            text-align: center;\n",
        "            text-decoration: wavy;\n",
        "        }\n",
        "    </style>\n",
        "</head>\n",
        "\n",
        "<body>\n",
        "    <h1 id=\"unique\">\n",
        "        HTML defines the content and structure of\n",
        "        your website\n",
        "    </h1>\n",
        "</body>\n",
        "\n",
        "</html>"
      ],
      "metadata": {
        "id": "3RKTpK8AW_KI"
      },
      "execution_count": null,
      "outputs": []
    },
    {
      "cell_type": "markdown",
      "source": [
        "Q2. Explain the purpose of comments in HTML and provide an example of how to use comments in an HTML\n",
        "document$\n",
        "\n",
        " ANS:\n",
        "  1. Code Documentation: Comments help developers understand the structure and functionality of the code, making it easier to maintain and update. This is especially useful in collaborative environments or when revisiting code after some time.​\n",
        "  \n",
        "  2.Debugging Aid: By commenting out specific sections of code, developers can isolate and identify issues without deleting code, facilitating efficient debugging.​\n",
        "\n",
        "  3. Temporarily Disabling Code: Comments allow developers to disable parts of the code without removing them, which is helpful when testing different versions or features.​"
      ],
      "metadata": {
        "id": "chvl0QrbXD58"
      }
    },
    {
      "cell_type": "code",
      "source": [
        "<!DOCTYPE html>\n",
        "<html lang=\"en\">\n",
        "<head>\n",
        "    <meta charset=\"UTF-8\">\n",
        "    <title>HTML Comments Example</title>\n",
        "</head>\n",
        "<body>\n",
        "    <!-- This is a main heading -->\n",
        "    <h1>Welcome to My Website</h1>\n",
        "\n",
        "    <!-- Navigation links -->\n",
        "    <nav>\n",
        "        <ul>\n",
        "            <li><a href=\"index.html\">Home</a></li>\n",
        "            <li><a href=\"about.html\">About</a></li>\n",
        "            <li><a href=\"contact.html\">Contact</a></li>\n",
        "        </ul>\n",
        "    </nav>\n",
        "\n",
        "    <!-- Content section -->\n",
        "    <section>\n",
        "        <p>This is a paragraph explaining the purpose of the website.</p>\n",
        "    </section>\n",
        "\n",
        "    <!--\n",
        "    <section>\n",
        "        <p>This section is under construction and will be added soon.</p>\n",
        "    </section>\n",
        "    -->\n",
        "</body>\n",
        "</html>\n"
      ],
      "metadata": {
        "id": "uxIDY2ZSXKdh"
      },
      "execution_count": null,
      "outputs": []
    },
    {
      "cell_type": "markdown",
      "source": [
        "Q3.Write an HTML program that includes a heading, a paragraph of text, a horizontal line, and a line break.\n",
        "Arrange these elements to create a simple web page layout\n",
        "\n"
      ],
      "metadata": {
        "id": "XHOTTbIRX9Kg"
      }
    },
    {
      "cell_type": "markdown",
      "source": [],
      "metadata": {
        "id": "07jU8lbdYJOb"
      }
    },
    {
      "cell_type": "code",
      "source": [
        "<!DOCTYPE html>\n",
        "<html>\n",
        "    <head>\n",
        "        <title>\n",
        "            FIRST STEP.\n",
        "        </title>\n",
        "\n",
        "     <body>\n",
        "     <h1>\n",
        "        Excited to learn full stack.\n",
        "     </h1>\n",
        "     <p>\n",
        "        just do it.<p>\n",
        "            o thats awesome\n",
        "        </p>\n",
        "     </p>\n",
        "     <!-- in below we can give certain shpe to bullet point symbol by using type=\"whatever you want\" -->\n",
        "      <ul type=\"square\">\n",
        "        <li>\n",
        "            iteam 1\n",
        "          <li>\n",
        "            iteam 2\n",
        "          </li>\n",
        "\n",
        "        </li>\n",
        "      </ul>\n",
        "  <!-- here also we can use attributes -->\n",
        "      <ol type=\"1\" start=\"0\" reversed=\"true\">\n",
        "        <li>\n",
        "            point 1 <li>\n",
        "                point 2\n",
        "            </li>\n",
        "        </li>\n",
        "      </ol>\n",
        "\n",
        "      <ol type=\"a\" start=\"z\" reversed=\"true\">\n",
        "        <li>\n",
        "            <p>\n",
        "                the jsndzsn mzdkjfkdmvkld kcjdknjn<br> gddsuhj hdghbf gdsb\n",
        "            </p>\n",
        "        </li>\n",
        "        <hr>\n",
        "      <li>\n",
        "        <p>\n",
        "            bu fdjfd  ufjdn iadmk dfkdn jfd djf.\n",
        "        </p>\n",
        "      </li>\n",
        "\n",
        "      </ol>\n",
        "      <dl>\n",
        "        <dt>\n",
        "            term 1\n",
        "        </dt>\n",
        "        <dd>\n",
        "            description 1\n",
        "        </dd>\n",
        "      </dl>\n",
        "\n",
        "     </body>\n",
        "\n",
        "\n",
        "    </head>\n",
        "</html>"
      ],
      "metadata": {
        "id": "Dciboq9tYLCF"
      },
      "execution_count": null,
      "outputs": []
    },
    {
      "cell_type": "markdown",
      "source": [
        "Q4.Write a short note on Tag and element with an examples\n"
      ],
      "metadata": {
        "id": "mOUbnVF-YSLn"
      }
    },
    {
      "cell_type": "markdown",
      "source": [
        "\n",
        "Tag: A tag is a markup instruction enclosed within angle brackets that specifies how content should be structured or displayed in a web browser. Tags typically come in pairs: an opening tag (e.g., <p>) and a closing tag (e.g., </p>), with the content placed between them. Some tags are self-closing, meaning they don't have a closing counterpart (e.g., <br> for a line break). Tags define the type of HTML element, such as a heading, paragraph, or link. ​\n",
        "\n",
        "\n",
        "Element: An element encompasses the opening tag, the content, and the closing tag. It represents the complete, functional unit on a webpage. For example, a paragraph element includes the <p> opening tag, the paragraph text, and the </p> closing tag. Elements can also be empty, like the <br> element, which represents a line break and doesn't have any content or a closing tag.\n",
        "\n",
        "\n",
        "Example\n"
      ],
      "metadata": {
        "id": "kHr98fppZBkq"
      }
    },
    {
      "cell_type": "code",
      "source": [
        "<p>Welcome to my website!</p>\n"
      ],
      "metadata": {
        "id": "HHO7HoUHZWJW"
      },
      "execution_count": null,
      "outputs": []
    },
    {
      "cell_type": "markdown",
      "source": [
        "Q5. What is the DOCTYPE Declaration in HTML?\n",
        "Ans:\n",
        "\n",
        "  The <!DOCTYPE> declaration in HTML serves as an instruction to web browsers, informing them about the version of HTML used in the document. This declaration ensures that browsers render the content in compliance with the specified HTML standards."
      ],
      "metadata": {
        "id": "lB0CFAhPZZHl"
      }
    },
    {
      "cell_type": "markdown",
      "source": [],
      "metadata": {
        "id": "gP6tWL3CaBxO"
      }
    }
  ]
}